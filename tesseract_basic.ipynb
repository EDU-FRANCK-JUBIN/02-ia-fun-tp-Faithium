{
 "cells": [
  {
   "cell_type": "code",
   "execution_count": 10,
   "metadata": {},
   "outputs": [
    {
     "name": "stdout",
     "output_type": "stream",
     "text": [
      "Ceci est un premier test\n"
     ]
    }
   ],
   "source": [
    "try:\n",
    "    from PIL import Image\n",
    "except ImportError:\n",
    "    import Image\n",
    "import pytesseract\n",
    "\n",
    "pytesseract.pytesseract.tesseract_cmd = r'D:\\Apps\\Tesseract-OCR\\tesseract.exe'\n",
    "img1Path = 'Tesseract/image_1.png'\n",
    "print(pytesseract.image_to_string(Image.open(img1Path)))"
   ]
  },
  {
   "cell_type": "code",
   "execution_count": 11,
   "metadata": {},
   "outputs": [
    {
     "name": "stdout",
     "output_type": "stream",
     "text": [
      "level\tpage_num\tblock_num\tpar_num\tline_num\tword_num\tleft\ttop\twidth\theight\tconf\ttext\n",
      "1\t1\t0\t0\t0\t0\t0\t0\t1920\t1080\t-1\t\n",
      "2\t1\t1\t0\t0\t0\t469\t458\t738\t60\t-1\t\n",
      "3\t1\t1\t1\t0\t0\t469\t458\t738\t60\t-1\t\n",
      "4\t1\t1\t1\t1\t0\t469\t458\t738\t60\t-1\t\n",
      "5\t1\t1\t1\t1\t1\t469\t458\t122\t48\t95\tCeci\n",
      "5\t1\t1\t1\t1\t2\t621\t461\t89\t45\t95\test\n",
      "5\t1\t1\t1\t1\t3\t737\t470\t67\t36\t96\tun\n",
      "5\t1\t1\t1\t1\t4\t835\t458\t235\t60\t95\tpremier\n",
      "5\t1\t1\t1\t1\t5\t1092\t461\t115\t45\t95\ttest\n"
     ]
    }
   ],
   "source": [
    "print(pytesseract.image_to_data(Image.open(img1Path)))"
   ]
  },
  {
   "cell_type": "code",
   "execution_count": 12,
   "metadata": {},
   "outputs": [
    {
     "name": "stdout",
     "output_type": "stream",
     "text": [
      "Page number: 0\n",
      "Orientation in degrees: 0\n",
      "Rotate: 0\n",
      "Orientation confidence: 2.01\n",
      "Script: Latin\n",
      "Script confidence: 11.11\n"
     ]
    }
   ],
   "source": [
    "img2Path = 'Tesseract/image_2.png'\n",
    "print(pytesseract.image_to_osd(Image.open(img2Path)))"
   ]
  },
  {
   "cell_type": "code",
   "execution_count": null,
   "metadata": {},
   "outputs": [],
   "source": []
  }
 ],
 "metadata": {
  "kernelspec": {
   "display_name": "Python 3",
   "language": "python",
   "name": "python3"
  },
  "language_info": {
   "codemirror_mode": {
    "name": "ipython",
    "version": 3
   },
   "file_extension": ".py",
   "mimetype": "text/x-python",
   "name": "python",
   "nbconvert_exporter": "python",
   "pygments_lexer": "ipython3",
   "version": "3.7.4"
  }
 },
 "nbformat": 4,
 "nbformat_minor": 4
}
